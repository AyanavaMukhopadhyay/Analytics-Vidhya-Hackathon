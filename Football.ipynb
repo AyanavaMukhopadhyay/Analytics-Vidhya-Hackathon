{
 "cells": [
  {
   "cell_type": "code",
   "execution_count": null,
   "metadata": {
    "colab": {
     "base_uri": "https://localhost:8080/"
    },
    "executionInfo": {
     "elapsed": 39424,
     "status": "ok",
     "timestamp": 1655037680939,
     "user": {
      "displayName": "Ayanava Mukhopadhyay",
      "userId": "12426718386541172976"
     },
     "user_tz": -330
    },
    "id": "a8du1DHG5WBC",
    "outputId": "004feec4-7f8a-4f5c-8ae6-4f29f154eb15"
   },
   "outputs": [],
   "source": [
    "import numpy as np\n",
    "import pandas as pd\n",
    "import matplotlib.pyplot as plt\n",
    "import seaborn as sns\n",
    "import math\n",
    "import warnings\n",
    "warnings.filterwarnings('ignore')\n",
    "import time\n",
    "\n",
    "from google.colab import drive\n",
    "drive.mount('/content/drive')"
   ]
  },
  {
   "cell_type": "code",
   "execution_count": null,
   "metadata": {
    "colab": {
     "base_uri": "https://localhost:8080/"
    },
    "executionInfo": {
     "elapsed": 5129,
     "status": "ok",
     "timestamp": 1655052337859,
     "user": {
      "displayName": "Ayanava Mukhopadhyay",
      "userId": "12426718386541172976"
     },
     "user_tz": -330
    },
    "id": "UVVpGdiu5_df",
    "outputId": "0d65805f-fbc6-45a3-c581-e114273edfa2"
   },
   "outputs": [],
   "source": [
    "df=pd.read_csv('/content/drive/MyDrive/Analytics Vidhya/train.csv')\n",
    "df.shape"
   ]
  },
  {
   "cell_type": "code",
   "execution_count": null,
   "metadata": {
    "executionInfo": {
     "elapsed": 19,
     "status": "ok",
     "timestamp": 1655052337860,
     "user": {
      "displayName": "Ayanava Mukhopadhyay",
      "userId": "12426718386541172976"
     },
     "user_tz": -330
    },
    "id": "xM9rFqL56QvL"
   },
   "outputs": [],
   "source": [
    "pd.set_option('display.max_columns', 1000)\n",
    "pd.set_option('display.max_rows', 1000)Q"
   ]
  },
  {
   "cell_type": "code",
   "execution_count": null,
   "metadata": {
    "executionInfo": {
     "elapsed": 17,
     "status": "ok",
     "timestamp": 1655052337861,
     "user": {
      "displayName": "Ayanava Mukhopadhyay",
      "userId": "12426718386541172976"
     },
     "user_tz": -330
    },
    "id": "Ixyi7Agr6Vp1"
   },
   "outputs": [],
   "source": [
    "df.drop('row_id',axis=1,inplace=True)"
   ]
  },
  {
   "cell_type": "code",
   "execution_count": null,
   "metadata": {
    "colab": {
     "base_uri": "https://localhost:8080/",
     "height": 270
    },
    "executionInfo": {
     "elapsed": 1642,
     "status": "ok",
     "timestamp": 1654872277730,
     "user": {
      "displayName": "Ayanava Mukhopadhyay",
      "userId": "12426718386541172976"
     },
     "user_tz": -330
    },
    "id": "UWzP-xrO6kRc",
    "outputId": "92658bc8-fa53-4efc-c4c3-a49191c8644e"
   },
   "outputs": [],
   "source": [
    "df.head()"
   ]
  },
  {
   "cell_type": "code",
   "execution_count": null,
   "metadata": {
    "colab": {
     "base_uri": "https://localhost:8080/"
    },
    "executionInfo": {
     "elapsed": 17,
     "status": "ok",
     "timestamp": 1655052337862,
     "user": {
      "displayName": "Ayanava Mukhopadhyay",
      "userId": "12426718386541172976"
     },
     "user_tz": -330
    },
    "id": "7JFpM-4h6ujg",
    "outputId": "e780f8b1-fc60-4eeb-ecf1-f6ee5fbf4a26"
   },
   "outputs": [],
   "source": [
    "df.replace([' ','\\\\N','Null','NaN'],np.nan)\n",
    "df.isnull().sum()[df.isnull().sum()>0]"
   ]
  },
  {
   "cell_type": "code",
   "execution_count": null,
   "metadata": {
    "executionInfo": {
     "elapsed": 412,
     "status": "ok",
     "timestamp": 1655052346854,
     "user": {
      "displayName": "Ayanava Mukhopadhyay",
      "userId": "12426718386541172976"
     },
     "user_tz": -330
    },
    "id": "_karUBmtS5lO"
   },
   "outputs": [],
   "source": [
    "df.fillna(0,inplace=True)"
   ]
  },
  {
   "cell_type": "code",
   "execution_count": null,
   "metadata": {
    "colab": {
     "base_uri": "https://localhost:8080/",
     "height": 300
    },
    "executionInfo": {
     "elapsed": 431,
     "status": "ok",
     "timestamp": 1654926886874,
     "user": {
      "displayName": "Ayanava Mukhopadhyay",
      "userId": "12426718386541172976"
     },
     "user_tz": -330
    },
    "id": "fkVBY-3qU_km",
    "outputId": "3630c6e3-453e-449a-cab7-2383d9856413"
   },
   "outputs": [],
   "source": [
    "df[['player_weight','player_height']].describe()"
   ]
  },
  {
   "cell_type": "code",
   "execution_count": null,
   "metadata": {
    "colab": {
     "base_uri": "https://localhost:8080/"
    },
    "executionInfo": {
     "elapsed": 7,
     "status": "ok",
     "timestamp": 1654927649517,
     "user": {
      "displayName": "Ayanava Mukhopadhyay",
      "userId": "12426718386541172976"
     },
     "user_tz": -330
    },
    "id": "XnVuo4iTX3LF",
    "outputId": "132ad240-57f0-4212-b3c0-d54108db32cd"
   },
   "outputs": [],
   "source": [
    "df[['player_position_1','player_position_2']].nunique()"
   ]
  },
  {
   "cell_type": "code",
   "execution_count": null,
   "metadata": {
    "colab": {
     "base_uri": "https://localhost:8080/"
    },
    "executionInfo": {
     "elapsed": 6,
     "status": "ok",
     "timestamp": 1654928058998,
     "user": {
      "displayName": "Ayanava Mukhopadhyay",
      "userId": "12426718386541172976"
     },
     "user_tz": -330
    },
    "id": "DxY1sWy1Vtjn",
    "outputId": "5e0c71eb-23ac-4922-8365-9bc122c449b8"
   },
   "outputs": [],
   "source": [
    "df.groupby('competitionId','winner')['rating_num'].mean()"
   ]
  },
  {
   "cell_type": "code",
   "execution_count": null,
   "metadata": {
    "colab": {
     "base_uri": "https://localhost:8080/",
     "height": 488
    },
    "executionInfo": {
     "elapsed": 693,
     "status": "ok",
     "timestamp": 1654928408209,
     "user": {
      "displayName": "Ayanava Mukhopadhyay",
      "userId": "12426718386541172976"
     },
     "user_tz": -330
    },
    "id": "ID8AYT7TV-GL",
    "outputId": "5f31752d-d9ab-4604-ed74-a1420fb48c48"
   },
   "outputs": [],
   "source": [
    "df[df.columns[pd.Series(df.columns).str.startswith('player_defensive_raw_var_')]]"
   ]
  },
  {
   "cell_type": "code",
   "execution_count": null,
   "metadata": {
    "executionInfo": {
     "elapsed": 420,
     "status": "ok",
     "timestamp": 1655052357458,
     "user": {
      "displayName": "Ayanava Mukhopadhyay",
      "userId": "12426718386541172976"
     },
     "user_tz": -330
    },
    "id": "BJLxb2qg9Kkl"
   },
   "outputs": [],
   "source": [
    "df=df[~(df.player_position_1.isin([20.0,22.0,23.0]))]"
   ]
  },
  {
   "cell_type": "code",
   "execution_count": null,
   "metadata": {
    "colab": {
     "base_uri": "https://localhost:8080/"
    },
    "executionInfo": {
     "elapsed": 426,
     "status": "ok",
     "timestamp": 1654937539142,
     "user": {
      "displayName": "Ayanava Mukhopadhyay",
      "userId": "12426718386541172976"
     },
     "user_tz": -330
    },
    "id": "jbVSMwpW8tDJ",
    "outputId": "7220600f-8a8b-4ae4-cbb8-e00e96f59cfb"
   },
   "outputs": [],
   "source": [
    "df.player_position_1.value_counts().sort_index()"
   ]
  },
  {
   "cell_type": "code",
   "execution_count": null,
   "metadata": {
    "colab": {
     "base_uri": "https://localhost:8080/"
    },
    "executionInfo": {
     "elapsed": 432,
     "status": "ok",
     "timestamp": 1654937542795,
     "user": {
      "displayName": "Ayanava Mukhopadhyay",
      "userId": "12426718386541172976"
     },
     "user_tz": -330
    },
    "id": "F2D9DHnp89fF",
    "outputId": "16efd21e-9de2-4902-80ed-2b7c3b548e38"
   },
   "outputs": [],
   "source": [
    "df.player_position_2.value_counts().sort_index()"
   ]
  },
  {
   "cell_type": "code",
   "execution_count": null,
   "metadata": {
    "executionInfo": {
     "elapsed": 410,
     "status": "ok",
     "timestamp": 1655052362892,
     "user": {
      "displayName": "Ayanava Mukhopadhyay",
      "userId": "12426718386541172976"
     },
     "user_tz": -330
    },
    "id": "_5cFT0oeubYl"
   },
   "outputs": [],
   "source": [
    "df['position']=np.where(df.player_position_1==df.player_position_2,0,1)"
   ]
  },
  {
   "cell_type": "code",
   "execution_count": null,
   "metadata": {
    "colab": {
     "base_uri": "https://localhost:8080/",
     "height": 424
    },
    "executionInfo": {
     "elapsed": 8,
     "status": "ok",
     "timestamp": 1654937556353,
     "user": {
      "displayName": "Ayanava Mukhopadhyay",
      "userId": "12426718386541172976"
     },
     "user_tz": -330
    },
    "id": "Ehc65zh_uzNQ",
    "outputId": "5a4a8732-8c71-41b4-cb49-0df96d988c49"
   },
   "outputs": [],
   "source": [
    "df[['player_position_1','player_position_2','position']]"
   ]
  },
  {
   "cell_type": "code",
   "execution_count": null,
   "metadata": {
    "executionInfo": {
     "elapsed": 444,
     "status": "ok",
     "timestamp": 1655052369322,
     "user": {
      "displayName": "Ayanava Mukhopadhyay",
      "userId": "12426718386541172976"
     },
     "user_tz": -330
    },
    "id": "jhTY_-z68V0U"
   },
   "outputs": [],
   "source": [
    "df=pd.get_dummies(df,columns=['winner','team','player_position_1','player_position_2'],drop_first=True)"
   ]
  },
  {
   "cell_type": "code",
   "execution_count": null,
   "metadata": {
    "executionInfo": {
     "elapsed": 415,
     "status": "ok",
     "timestamp": 1655052370178,
     "user": {
      "displayName": "Ayanava Mukhopadhyay",
      "userId": "12426718386541172976"
     },
     "user_tz": -330
    },
    "id": "q0abBNZ38b9u"
   },
   "outputs": [],
   "source": [
    "df.drop(['team1_system_id','team2_system_id','scout_id'],axis=1,inplace=True)"
   ]
  },
  {
   "cell_type": "code",
   "execution_count": null,
   "metadata": {
    "executionInfo": {
     "elapsed": 446,
     "status": "ok",
     "timestamp": 1655052372137,
     "user": {
      "displayName": "Ayanava Mukhopadhyay",
      "userId": "12426718386541172976"
     },
     "user_tz": -330
    },
    "id": "jN-5ZnFOAsWA"
   },
   "outputs": [],
   "source": [
    "x=list(df.columns)\n",
    "x.remove('rating_num')"
   ]
  },
  {
   "cell_type": "code",
   "execution_count": null,
   "metadata": {
    "colab": {
     "base_uri": "https://localhost:8080/"
    },
    "executionInfo": {
     "elapsed": 6,
     "status": "ok",
     "timestamp": 1655052372697,
     "user": {
      "displayName": "Ayanava Mukhopadhyay",
      "userId": "12426718386541172976"
     },
     "user_tz": -330
    },
    "id": "9d_Pkrkf_UyT",
    "outputId": "4a03c789-f51d-4f0d-a263-2ba1f23a23d8"
   },
   "outputs": [],
   "source": [
    "from sklearn.model_selection import train_test_split\n",
    "\n",
    "x_train,x_test,y_train,y_test=train_test_split(df[x],df['rating_num'],test_size=.3,random_state=17)\n",
    "x_train.shape,y_train.shape,x_test.shape,y_test.shape"
   ]
  },
  {
   "cell_type": "code",
   "execution_count": null,
   "metadata": {
    "executionInfo": {
     "elapsed": 491,
     "status": "ok",
     "timestamp": 1655052512884,
     "user": {
      "displayName": "Ayanava Mukhopadhyay",
      "userId": "12426718386541172976"
     },
     "user_tz": -330
    },
    "id": "HwKFfWPOBMcS"
   },
   "outputs": [],
   "source": [
    "total_features=l"
   ]
  },
  {
   "cell_type": "code",
   "execution_count": null,
   "metadata": {
    "colab": {
     "base_uri": "https://localhost:8080/"
    },
    "executionInfo": {
     "elapsed": 6,
     "status": "ok",
     "timestamp": 1655052514367,
     "user": {
      "displayName": "Ayanava Mukhopadhyay",
      "userId": "12426718386541172976"
     },
     "user_tz": -330
    },
    "id": "ArKLRmXz_2wN",
    "outputId": "1c7a0abd-3385-4df9-9892-578a6a3622aa"
   },
   "outputs": [],
   "source": [
    "len(total_features)"
   ]
  },
  {
   "cell_type": "code",
   "execution_count": null,
   "metadata": {
    "colab": {
     "base_uri": "https://localhost:8080/"
    },
    "executionInfo": {
     "elapsed": 23,
     "status": "ok",
     "timestamp": 1655058614640,
     "user": {
      "displayName": "Ayanava Mukhopadhyay",
      "userId": "12426718386541172976"
     },
     "user_tz": -330
    },
    "id": "y54lS0CF8Uwp",
    "outputId": "ba95edee-ab4a-42b4-e10f-6c6d3d3f61c8"
   },
   "outputs": [],
   "source": [
    "len(list(l[1]))"
   ]
  },
  {
   "cell_type": "code",
   "execution_count": null,
   "metadata": {
    "id": "7Z5EbDdUdtHn"
   },
   "outputs": [],
   "source": [
    "b=list(l[1])\n",
    "b.append('rating_num')"
   ]
  },
  {
   "cell_type": "code",
   "execution_count": null,
   "metadata": {
    "id": "0qvIY4cgd3HI"
   },
   "outputs": [],
   "source": [
    "df[b].to_csv('/content/drive/MyDrive/Analytics Vidhya/features.csv')"
   ]
  },
  {
   "cell_type": "code",
   "execution_count": null,
   "metadata": {
    "executionInfo": {
     "elapsed": 559,
     "status": "ok",
     "timestamp": 1655058671049,
     "user": {
      "displayName": "Ayanava Mukhopadhyay",
      "userId": "12426718386541172976"
     },
     "user_tz": -330
    },
    "id": "FESE633aDv6Y"
   },
   "outputs": [],
   "source": [
    "feats=list(l[1])"
   ]
  },
  {
   "cell_type": "code",
   "execution_count": null,
   "metadata": {
    "executionInfo": {
     "elapsed": 4,
     "status": "ok",
     "timestamp": 1655058673435,
     "user": {
      "displayName": "Ayanava Mukhopadhyay",
      "userId": "12426718386541172976"
     },
     "user_tz": -330
    },
    "id": "77RQzEO_Etf_"
   },
   "outputs": [],
   "source": [
    "import lightgbm as lgb"
   ]
  },
  {
   "cell_type": "code",
   "execution_count": null,
   "metadata": {
    "colab": {
     "base_uri": "https://localhost:8080/"
    },
    "executionInfo": {
     "elapsed": 10577,
     "status": "ok",
     "timestamp": 1655058777668,
     "user": {
      "displayName": "Ayanava Mukhopadhyay",
      "userId": "12426718386541172976"
     },
     "user_tz": -330
    },
    "id": "ktpSmxzlj3R1",
    "outputId": "037818f0-2097-45af-f93a-df0c4983a19a"
   },
   "outputs": [],
   "source": [
    "model=lgb.LGBMRegressor()\n",
    "\n",
    "model.fit(x_train[feats],y_train)"
   ]
  },
  {
   "cell_type": "code",
   "execution_count": null,
   "metadata": {
    "executionInfo": {
     "elapsed": 504,
     "status": "ok",
     "timestamp": 1655058780814,
     "user": {
      "displayName": "Ayanava Mukhopadhyay",
      "userId": "12426718386541172976"
     },
     "user_tz": -330
    },
    "id": "_51UJzInj_Ss"
   },
   "outputs": [],
   "source": [
    "x_train['pred']=(model.predict(x_train[feats]))"
   ]
  },
  {
   "cell_type": "code",
   "execution_count": null,
   "metadata": {
    "colab": {
     "base_uri": "https://localhost:8080/"
    },
    "executionInfo": {
     "elapsed": 9,
     "status": "ok",
     "timestamp": 1655058782349,
     "user": {
      "displayName": "Ayanava Mukhopadhyay",
      "userId": "12426718386541172976"
     },
     "user_tz": -330
    },
    "id": "-wLMHbcXkw43",
    "outputId": "9bc86336-5ab5-4dfc-bebd-6a9d61510072"
   },
   "outputs": [],
   "source": [
    "r2_score(x_train['pred'],y_train)"
   ]
  },
  {
   "cell_type": "code",
   "execution_count": null,
   "metadata": {
    "executionInfo": {
     "elapsed": 482,
     "status": "ok",
     "timestamp": 1655058785558,
     "user": {
      "displayName": "Ayanava Mukhopadhyay",
      "userId": "12426718386541172976"
     },
     "user_tz": -330
    },
    "id": "7HpFeVwuk3dr"
   },
   "outputs": [],
   "source": [
    "x_test['pred']=(model.predict(x_test[feats]))"
   ]
  },
  {
   "cell_type": "code",
   "execution_count": null,
   "metadata": {
    "colab": {
     "base_uri": "https://localhost:8080/"
    },
    "executionInfo": {
     "elapsed": 4,
     "status": "ok",
     "timestamp": 1655058786185,
     "user": {
      "displayName": "Ayanava Mukhopadhyay",
      "userId": "12426718386541172976"
     },
     "user_tz": -330
    },
    "id": "Q7XI2iWf85sB",
    "outputId": "8b7ad207-b09c-4732-ecd0-9ef66cee814d"
   },
   "outputs": [],
   "source": [
    "r2_score(x_test['pred'],y_test)"
   ]
  },
  {
   "cell_type": "code",
   "execution_count": null,
   "metadata": {
    "executionInfo": {
     "elapsed": 2692,
     "status": "ok",
     "timestamp": 1655058701372,
     "user": {
      "displayName": "Ayanava Mukhopadhyay",
      "userId": "12426718386541172976"
     },
     "user_tz": -330
    },
    "id": "fo4e0jEJ89x-"
   },
   "outputs": [],
   "source": [
    "test=pd.read_csv('/content/drive/MyDrive/Analytics Vidhya/test.csv')"
   ]
  },
  {
   "cell_type": "code",
   "execution_count": null,
   "metadata": {
    "executionInfo": {
     "elapsed": 475,
     "status": "ok",
     "timestamp": 1655058739393,
     "user": {
      "displayName": "Ayanava Mukhopadhyay",
      "userId": "12426718386541172976"
     },
     "user_tz": -330
    },
    "id": "ZdcBzstLMBsQ"
   },
   "outputs": [],
   "source": [
    "test.replace([' ','\\\\N','Null','NaN'],np.nan)\n",
    "test['position']=np.where(test.player_position_1==test.player_position_2,0,1)\n",
    "test=pd.get_dummies(test,columns=['winner','team','player_position_1','player_position_2'],drop_first=True)"
   ]
  },
  {
   "cell_type": "code",
   "execution_count": null,
   "metadata": {
    "executionInfo": {
     "elapsed": 439,
     "status": "ok",
     "timestamp": 1655058742335,
     "user": {
      "displayName": "Ayanava Mukhopadhyay",
      "userId": "12426718386541172976"
     },
     "user_tz": -330
    },
    "id": "d3qxy3_JMBsS"
   },
   "outputs": [],
   "source": [
    "test.fillna(0,inplace=True)"
   ]
  },
  {
   "cell_type": "code",
   "execution_count": null,
   "metadata": {
    "id": "ym-mIvRd-Sf_"
   },
   "outputs": [],
   "source": [
    "test['rating_num']=(model.predict(test[feats]))"
   ]
  },
  {
   "cell_type": "code",
   "execution_count": null,
   "metadata": {
    "id": "wa-0h2lc-Vf-"
   },
   "outputs": [],
   "source": [
    "test[['row_id','rating_num']].to_csv('/content/drive/MyDrive/Analytics Vidhya/prediction2.csv',index=False)"
   ]
  },
  {
   "cell_type": "markdown",
   "metadata": {
    "id": "xUpjbl6gkbxd"
   },
   "source": [
    "# Only the features selected using Boosted Feature Selector"
   ]
  },
  {
   "cell_type": "code",
   "execution_count": null,
   "metadata": {
    "id": "dgjI39-f-knk"
   },
   "outputs": [],
   "source": [
    "df1=pd.read_csv('/content/drive/MyDrive/Analytics Vidhya/features.csv')"
   ]
  },
  {
   "cell_type": "code",
   "execution_count": null,
   "metadata": {
    "colab": {
     "base_uri": "https://localhost:8080/",
     "height": 270
    },
    "executionInfo": {
     "elapsed": 803,
     "status": "ok",
     "timestamp": 1654964642339,
     "user": {
      "displayName": "Ayanava Mukhopadhyay",
      "userId": "12426718386541172976"
     },
     "user_tz": -330
    },
    "id": "3EhSWn9YktbG",
    "outputId": "2db96937-c57a-474c-bdc0-fed05263366f"
   },
   "outputs": [],
   "source": [
    "df1.drop('Unnamed: 0',axis=1,inplace=True)\n",
    "df1.head()"
   ]
  },
  {
   "cell_type": "code",
   "execution_count": null,
   "metadata": {
    "id": "H1cWl_eal_jr"
   },
   "outputs": [],
   "source": [
    "l=list(df1.columns)\n",
    "l.remove('rating_num')"
   ]
  },
  {
   "cell_type": "code",
   "execution_count": null,
   "metadata": {
    "colab": {
     "base_uri": "https://localhost:8080/"
    },
    "executionInfo": {
     "elapsed": 426,
     "status": "ok",
     "timestamp": 1654966890113,
     "user": {
      "displayName": "Ayanava Mukhopadhyay",
      "userId": "12426718386541172976"
     },
     "user_tz": -330
    },
    "id": "Urh4V0ENlkRd",
    "outputId": "6a84ee38-5ba6-4fc7-e56d-e68df8750a38"
   },
   "outputs": [],
   "source": [
    "from sklearn.model_selection import train_test_split\n",
    "\n",
    "x_train,x_test,y_train,y_test=train_test_split(df1[l],df1['rating_num'],test_size=.3,random_state=15)\n",
    "x_train.shape,y_train.shape,x_test.shape,y_test.shape"
   ]
  },
  {
   "cell_type": "code",
   "execution_count": null,
   "metadata": {
    "colab": {
     "base_uri": "https://localhost:8080/"
    },
    "executionInfo": {
     "elapsed": 7517,
     "status": "ok",
     "timestamp": 1654965094537,
     "user": {
      "displayName": "Ayanava Mukhopadhyay",
      "userId": "12426718386541172976"
     },
     "user_tz": -330
    },
    "id": "LBprNgCPk72H",
    "outputId": "5311d60f-5fe3-4cd6-f08a-9fee6ef8dac2"
   },
   "outputs": [],
   "source": [
    "import lightgbm as lgb\n",
    "from lightgbm import LGBMRegressor\n",
    "gbm=lgb.LGBMRegressor()\n",
    "gbm.fit(x_train,y_train,eval_set=[(x_test,y_test)],eval_metric='r2')"
   ]
  },
  {
   "cell_type": "code",
   "execution_count": null,
   "metadata": {
    "colab": {
     "base_uri": "https://localhost:8080/"
    },
    "executionInfo": {
     "elapsed": 1324419,
     "status": "ok",
     "timestamp": 1654966540478,
     "user": {
      "displayName": "Ayanava Mukhopadhyay",
      "userId": "12426718386541172976"
     },
     "user_tz": -330
    },
    "id": "K2xPSQTqmnsV",
    "outputId": "5388b8fc-2bbf-4218-af5b-5ab104706417"
   },
   "outputs": [],
   "source": [
    "from sklearn.feature_selection import RFE\n",
    "\n",
    "rfe = RFE(gbm,n_features_to_select=200,step= 1)\n",
    "rfe = rfe.fit(x_train, y_train)\n",
    "\n",
    "# summarize the selection of the attributes\n",
    "print(rfe.support_)"
   ]
  },
  {
   "cell_type": "code",
   "execution_count": null,
   "metadata": {
    "id": "3E86ujEqsW6t"
   },
   "outputs": [],
   "source": [
    "params=rfe.get_params()\n",
    "x_train['pred']=rfe.predict(x_train)"
   ]
  },
  {
   "cell_type": "code",
   "execution_count": null,
   "metadata": {
    "colab": {
     "base_uri": "https://localhost:8080/"
    },
    "executionInfo": {
     "elapsed": 459,
     "status": "ok",
     "timestamp": 1654966671594,
     "user": {
      "displayName": "Ayanava Mukhopadhyay",
      "userId": "12426718386541172976"
     },
     "user_tz": -330
    },
    "id": "q_eHfkKesrTH",
    "outputId": "4351634f-d972-4b85-e306-c206a6c6caf9"
   },
   "outputs": [],
   "source": [
    "from sklearn.metrics import r2_score\n",
    "r2_score(x_train['pred'],y_train)"
   ]
  },
  {
   "cell_type": "code",
   "execution_count": null,
   "metadata": {
    "id": "6lvruNkZs3wg"
   },
   "outputs": [],
   "source": [
    "x_test['pred']=np.round(rfe.predict(x_test))"
   ]
  },
  {
   "cell_type": "code",
   "execution_count": null,
   "metadata": {
    "colab": {
     "base_uri": "https://localhost:8080/"
    },
    "executionInfo": {
     "elapsed": 5,
     "status": "ok",
     "timestamp": 1654966899584,
     "user": {
      "displayName": "Ayanava Mukhopadhyay",
      "userId": "12426718386541172976"
     },
     "user_tz": -330
    },
    "id": "QLbALUvqtMQj",
    "outputId": "df0e296e-9610-45d7-8886-8462c255ea6f"
   },
   "outputs": [],
   "source": [
    "r2_score(x_test['pred'],y_test)"
   ]
  },
  {
   "cell_type": "code",
   "execution_count": null,
   "metadata": {
    "id": "4c2CgyfLt8GO"
   },
   "outputs": [],
   "source": [
    "test=pd.read_csv('/content/drive/MyDrive/Analytics Vidhya/test.csv')"
   ]
  },
  {
   "cell_type": "code",
   "execution_count": null,
   "metadata": {
    "id": "KNKYKK96uckf"
   },
   "outputs": [],
   "source": [
    "test.replace([' ','\\\\N','Null','NaN'],np.nan)\n",
    "test['position']=np.where(test.player_position_1==test.player_position_2,0,1)\n",
    "test=pd.get_dummies(test,columns=['winner','team','player_position_1','player_position_2'],drop_first=True)"
   ]
  },
  {
   "cell_type": "code",
   "execution_count": null,
   "metadata": {
    "id": "gvrGWFYTvmjZ"
   },
   "outputs": [],
   "source": [
    "test.fillna(0,inplace=True)"
   ]
  },
  {
   "cell_type": "code",
   "execution_count": null,
   "metadata": {
    "id": "QmxFbooSvfWG"
   },
   "outputs": [],
   "source": [
    "test.isnull().sum()"
   ]
  },
  {
   "cell_type": "code",
   "execution_count": null,
   "metadata": {
    "id": "bhhldgGsvCiV"
   },
   "outputs": [],
   "source": [
    "test['rating_num']=np.round(rfe.predict(test[l]))"
   ]
  },
  {
   "cell_type": "code",
   "execution_count": null,
   "metadata": {
    "id": "6qni8o-Hvspw"
   },
   "outputs": [],
   "source": [
    "test[['row_id','rating_num']].to_csv('/content/drive/MyDrive/Analytics Vidhya/predictions3.csv',index=False)"
   ]
  },
  {
   "cell_type": "code",
   "execution_count": null,
   "metadata": {
    "colab": {
     "base_uri": "https://localhost:8080/",
     "height": 1000
    },
    "executionInfo": {
     "elapsed": 526,
     "status": "ok",
     "timestamp": 1654966992059,
     "user": {
      "displayName": "Ayanava Mukhopadhyay",
      "userId": "12426718386541172976"
     },
     "user_tz": -330
    },
    "id": "hkwkWrfAm75_",
    "outputId": "e8d98e84-d7e1-490e-bcc5-9c3f76a3e3d1"
   },
   "outputs": [],
   "source": [
    "# summarize the ranking of the attributes\n",
    "fea_rank_ = pd.DataFrame({'cols':x_train.columns, 'fea_rank':rfe.ranking_})\n",
    "fea_rank_.loc[fea_rank_.fea_rank > 0].sort_values(by=['fea_rank'], ascending = True)"
   ]
  },
  {
   "cell_type": "code",
   "execution_count": null,
   "metadata": {
    "colab": {
     "base_uri": "https://localhost:8080/"
    },
    "executionInfo": {
     "elapsed": 454,
     "status": "ok",
     "timestamp": 1654970889790,
     "user": {
      "displayName": "Ayanava Mukhopadhyay",
      "userId": "12426718386541172976"
     },
     "user_tz": -330
    },
    "id": "yEvRw05JweDZ",
    "outputId": "26307f73-bd83-459a-e7b8-6faf9514cad4"
   },
   "outputs": [],
   "source": [
    "fea_rank_.loc[fea_rank_.fea_rank > 0].sort_values(by=['fea_rank'], ascending = True).head(40)['cols']"
   ]
  },
  {
   "cell_type": "code",
   "execution_count": null,
   "metadata": {
    "colab": {
     "base_uri": "https://localhost:8080/"
    },
    "executionInfo": {
     "elapsed": 593,
     "status": "ok",
     "timestamp": 1654967039594,
     "user": {
      "displayName": "Ayanava Mukhopadhyay",
      "userId": "12426718386541172976"
     },
     "user_tz": -330
    },
    "id": "FtOorXd-uDil",
    "outputId": "d5879d00-d44f-44d3-855d-8f1c55b27299"
   },
   "outputs": [],
   "source": [
    "sorted(zip(gbm.feature_importances_,x_train.columns),reverse=True)"
   ]
  },
  {
   "cell_type": "code",
   "execution_count": null,
   "metadata": {
    "id": "RGWYv8bww3Wg"
   },
   "outputs": [],
   "source": [
    "feats=['competitionId','team1_other_raw_var_36','player_general_derived_var_156','team1_other_raw_var_46','player_weight','player_height','winner_loser',\n",
    "       'position','team1_other_raw_var_44','team1_other_raw_var_42','team1_defensive_raw_var_29','team1_other_raw_var_28','team1_defensive_raw_var_24','team1_other_raw_var_20',\n",
    "       'team1_defensive_raw_var_17','team1_offensive_raw_var_7','team1_offensive_raw_var_1','player_offensive_derived_var_154','player_general_derived_var_148',\n",
    "       'player_general_derived_var_146','player_defensive_derived_var_138','team1_other_raw_var_49','team1_other_raw_var_52','team1_other_raw_var_57','player_general_var_4',\n",
    "       'player_other_raw_var_38','player_positional_raw_var_185','player_other_raw_var_197','team2_other_raw_var_49','team1_other_ratio_var_16','player_defensive_derived_var_29',\n",
    "       'team2_other_ratio_var_25','team1_offensive_derived_var_7','team1_offensive_derived_var_0','team1_defensive_derived_var_17','player_offensive_derived_var_55',\n",
    "       'team1_other_ratio_var_12','player_defensive_derived_var_8','team2_other_raw_var_93','player_other_raw_var_109',\n",
    "       'team1_other_ratio_var_14','team1_offensive_ratio_var_9','team1_other_ratio_var_7','team1_other_ratio_var_4','team1_other_ratio_var_1','player_physical_derived_var_133',\n",
    "       'team1_other_ratio_var_0','team1_other_raw_var_88']"
   ]
  },
  {
   "cell_type": "code",
   "execution_count": null,
   "metadata": {
    "colab": {
     "base_uri": "https://localhost:8080/"
    },
    "executionInfo": {
     "elapsed": 4992,
     "status": "ok",
     "timestamp": 1654972049388,
     "user": {
      "displayName": "Ayanava Mukhopadhyay",
      "userId": "12426718386541172976"
     },
     "user_tz": -330
    },
    "id": "B93jMdaBxXLa",
    "outputId": "34de385a-b44b-4f97-d7f1-715f88f9b06d"
   },
   "outputs": [],
   "source": [
    "gbm=lgb.LGBMRegressor(boosting_type='gbdt', class_weight=None, colsample_bytree=1.0,\n",
    "              importance_type='split', learning_rate=0.1, max_depth=-1,\n",
    "              min_child_samples=20, min_child_weight=0.001, min_split_gain=0.0,\n",
    "              n_estimators=370, n_jobs=-1, num_leaves=31, objective=None,\n",
    "              random_state=None, reg_alpha=0.0, reg_lambda=0.0, silent=True,\n",
    "              subsample=1.0, subsample_for_bin=200000, subsample_freq=0)\n",
    "gbm.fit(x_train[feats],y_train,eval_set=[(x_test[feats],y_test)],eval_metric='r2')"
   ]
  },
  {
   "cell_type": "code",
   "execution_count": null,
   "metadata": {
    "colab": {
     "base_uri": "https://localhost:8080/"
    },
    "executionInfo": {
     "elapsed": 11,
     "status": "ok",
     "timestamp": 1654972049389,
     "user": {
      "displayName": "Ayanava Mukhopadhyay",
      "userId": "12426718386541172976"
     },
     "user_tz": -330
    },
    "id": "Td-H1-EXyzAF",
    "outputId": "a16362c5-0616-4331-e8cf-6fa297c96e90"
   },
   "outputs": [],
   "source": [
    "x_train['pred']=np.round(gbm.predict(x_train[feats]))\n",
    "r2_score(x_train['pred'],y_train)"
   ]
  },
  {
   "cell_type": "code",
   "execution_count": null,
   "metadata": {
    "colab": {
     "base_uri": "https://localhost:8080/"
    },
    "executionInfo": {
     "elapsed": 2,
     "status": "ok",
     "timestamp": 1654972053765,
     "user": {
      "displayName": "Ayanava Mukhopadhyay",
      "userId": "12426718386541172976"
     },
     "user_tz": -330
    },
    "id": "mwEREt_Xxy-c",
    "outputId": "7b0fec77-9078-4d6b-d917-0fb96409a5ac"
   },
   "outputs": [],
   "source": [
    "x_test['pred']=np.round(gbm.predict(x_test[feats]))\n",
    "r2_score(x_test['pred'],y_test)"
   ]
  },
  {
   "cell_type": "code",
   "execution_count": null,
   "metadata": {
    "id": "M0IXat87049i"
   },
   "outputs": [],
   "source": [
    "test['rating_num']=np.round(gbm.predict(test[feats]))"
   ]
  },
  {
   "cell_type": "code",
   "execution_count": null,
   "metadata": {
    "id": "1nY9nqsH2c5K"
   },
   "outputs": [],
   "source": [
    "test[['row_id','rating_num']].to_csv('/content/drive/MyDrive/Analytics Vidhya/predictions16.csv',index=False)"
   ]
  }
 ],
 "metadata": {
  "colab": {
   "authorship_tag": "ABX9TyNawt78BN7zVqgAN/Z0AoNt",
   "collapsed_sections": [],
   "name": "Football.ipynb",
   "provenance": []
  },
  "kernelspec": {
   "display_name": "Python 3",
   "language": "python",
   "name": "python3"
  },
  "language_info": {
   "codemirror_mode": {
    "name": "ipython",
    "version": 3
   },
   "file_extension": ".py",
   "mimetype": "text/x-python",
   "name": "python",
   "nbconvert_exporter": "python",
   "pygments_lexer": "ipython3",
   "version": "3.8.5"
  }
 },
 "nbformat": 4,
 "nbformat_minor": 1
}
